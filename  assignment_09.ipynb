{
 "cells": [
  {
   "cell_type": "code",
   "execution_count": null,
   "id": "708a20a5-6ffb-4a1c-b019-601d5ba8c0ca",
   "metadata": {},
   "outputs": [],
   "source": [
    "#1Q)Write a program that asks the user to enter a length in centimetres. If the user enters\n",
    " #a negative length, the program should tell the user that the entry is invalid. Otherwise,\n",
    " #the program should convert the length to inches and print out the result. There are\n",
    " #2.54 centimetres in an inch."
   ]
  },
  {
   "cell_type": "code",
   "execution_count": 13,
   "id": "5f0ea70e-ffee-4d76-a96d-a8e548c82934",
   "metadata": {},
   "outputs": [
    {
     "name": "stdin",
     "output_type": "stream",
     "text": [
      "Enter the length in centimeters 5\n"
     ]
    },
    {
     "name": "stdout",
     "output_type": "stream",
     "text": [
      "You entered the valid length\n",
      "The convertation of length in cm to inch value :1.968503937007874\n"
     ]
    }
   ],
   "source": [
    "length_in_centimeters=eval(input(\"Enter the length in centimeters\"))\n",
    "if inch_value==2.54:\n",
    "    if length_in_centimeters>=0:\n",
    "        print(\"You entered the valid length\")\n",
    "        length_in_inch=length_in_centimeters/2.54\n",
    "        print(f\"The convertation of length in cm to inch value :{length_in_inch}\")\n",
    "    \n",
    "    else:\n",
    "        print(\"entry is invalid\")"
   ]
  },
  {
   "cell_type": "code",
   "execution_count": null,
   "id": "6603d14b-4959-48a5-847e-87113517bc08",
   "metadata": {},
   "outputs": [],
   "source": []
  },
  {
   "cell_type": "code",
   "execution_count": null,
   "id": "b86a04dc-8c90-41c4-b4b2-5878b5acb488",
   "metadata": {},
   "outputs": [],
   "source": [
    "#2Q)Ask the user for a temperature. Then ask them what units, Celsius or Fahrenheit, the\n",
    " #temperature is in. Your program should convert the temperature to the other unit. The\n",
    " #conversions are F = 9 5 C +32 and C = 5 9 (F − 32)."
   ]
  },
  {
   "cell_type": "code",
   "execution_count": 10,
   "id": "b3a1ee0a-7983-4e3b-8f62-634ab54d474f",
   "metadata": {},
   "outputs": [
    {
     "name": "stdin",
     "output_type": "stream",
     "text": [
      "Enter the temperature: 55\n",
      "what unites you have to convert (C/F) C\n"
     ]
    },
    {
     "name": "stdout",
     "output_type": "stream",
     "text": [
      "The temperature in celsiues: 12.777777777777779\n"
     ]
    }
   ],
   "source": [
    "temperature=eval(input(\"Enter the temperature:\"))\n",
    "units=input(\"what unites you have to convert (C/F)\")\n",
    "if units=='C':\n",
    "    celsiues=(temperature-32)*5/9\n",
    "    print(f\"The temperature in celsiues: {celsiues}\")\n",
    "elif units=='F':\n",
    "    fahrenheit=(temperature * 9/5) + 32\n",
    "    print(f\"The temperature in fahrenheit: { fahrenheit}\")\n",
    "\n",
    "else:\n",
    "    print(\"invalid option\")\n",
    "    \n",
    "    "
   ]
  },
  {
   "cell_type": "code",
   "execution_count": null,
   "id": "318339a9-b63c-46a6-93c0-d1c8a5d651ec",
   "metadata": {},
   "outputs": [],
   "source": [
    "#3Q)Ask the user to enter a temperature in Celsius. The program should print a\n",
    " message based on the temperature:\n",
    "• If the temperature is less than -273.15, print that the temperature is invalid because it is\n",
    " below absolute zero.\n",
    "• If it is exactly -273.15, print that the temperature is absolute 0.\n",
    "• If the temperature is between -273.15 and 0, print that the temperature is below\n",
    "  freezing. \n",
    "• If it is 0, print that the temperature is at the freezing point.\n",
    "• If it is between 0 and 100, print that the temperature is in the normal\n",
    "  range.\n",
    "• If it is 100, print that the temperature is at the boiling point.\n",
    "• If it is above 100, print that the temperature is above the boiling point."
   ]
  },
  {
   "cell_type": "code",
   "execution_count": 27,
   "id": "24127b5d-c85d-4e88-9f28-9c7494c44a26",
   "metadata": {},
   "outputs": [
    {
     "name": "stdin",
     "output_type": "stream",
     "text": [
      "Enter the temperature in celsius -222\n"
     ]
    },
    {
     "name": "stdout",
     "output_type": "stream",
     "text": [
      "That the temperature is below freezing.\n"
     ]
    }
   ],
   "source": [
    "temperature_in_celsius=eval(input(\"Enter the temperature in celsius\"))\n",
    "if temperature_in_celsius<-273.15:\n",
    "    print(\"The temperature is invalid because it is below absolute zero\")\n",
    "elif temperature_in_celsius==-273.15:\n",
    "    print(\"The temperature is absolute 0\")\n",
    "\n",
    "elif -273.15 < temperature_in_celsius < 0:\n",
    "    print(\"That the temperature is below freezing.\")\n",
    "\n",
    "elif temperature_in_celsius==0:\n",
    "    print(\"The temperature is at the freezing point.\")\n",
    "\n",
    "elif 0<temperature_in_celsius<100:\n",
    "    print(\"The temperature is in the normal range.\")\n",
    "\n",
    "elif temperature_in_celsius==100:\n",
    "    print(\"The temperature is at the boiling point.\")\n",
    "\n",
    "elif temperature_in_celsius>100:\n",
    "    print(\"The temperature is above the boiling point.\")\n",
    "\n",
    "else:\n",
    "    print(\"Enter the valid temperature\")\n"
   ]
  },
  {
   "cell_type": "code",
   "execution_count": null,
   "id": "b886de39-4210-42fc-a6ba-86b3c01dbd65",
   "metadata": {},
   "outputs": [],
   "source": [
    "#4Q)Write a program that asks the user how many credits they have taken. If they have taken 23 or\n",
    " #less, print that the student is a freshman. If they have taken between 24 and 53, print that they\n",
    " #are asophomore. The range for juniors is 54 to 83, and for seniors it is 84 and over."
   ]
  },
  {
   "cell_type": "code",
   "execution_count": 32,
   "id": "bc2d162a-4e42-49a6-a059-4472354bd901",
   "metadata": {},
   "outputs": [
    {
     "name": "stdin",
     "output_type": "stream",
     "text": [
      "Enter the credits they have taken!! : 84\n"
     ]
    },
    {
     "name": "stdout",
     "output_type": "stream",
     "text": [
      "They are seniors\n"
     ]
    }
   ],
   "source": [
    "credits=eval(input(\"Enter the credits they have taken!! :\"))\n",
    "if credits<=23:\n",
    "    print(\"That the student is a freshman\")\n",
    "\n",
    "elif 24<=credits<=53:\n",
    "    print(\"That they are asophmore\")\n",
    "elif 54<=credits<=83:\n",
    "    print(\"They are juniors\")\n",
    "elif credits>=84:\n",
    "    print(\"They are seniors\")\n",
    "\n",
    "else:\n",
    "    print(\"Invalid input you have given\")\n"
   ]
  },
  {
   "cell_type": "code",
   "execution_count": null,
   "id": "83756920-f849-4cc3-b7de-e2c962593bc0",
   "metadata": {},
   "outputs": [],
   "source": [
    "#4Q)Generate a random number between 1 and 10. Ask the user to guess the number and print a\n",
    " #message based on whether they get it right or not."
   ]
  },
  {
   "cell_type": "code",
   "execution_count": 42,
   "id": "594bb796-b4df-47ce-b9c7-274185f6f17d",
   "metadata": {},
   "outputs": [
    {
     "name": "stdin",
     "output_type": "stream",
     "text": [
      "Enter the num2 value : 9\n"
     ]
    },
    {
     "name": "stdout",
     "output_type": "stream",
     "text": [
      "====You lost====\n"
     ]
    }
   ],
   "source": [
    "import random\n",
    "num1=random.randint(1,10)\n",
    "num2=eval(input(\"Enter the num2 value :\"))\n",
    "if num1==num2:\n",
    "    print(\"====You won====\")\n",
    "\n",
    "else:\n",
    "    print(\"====You lost====\")"
   ]
  },
  {
   "cell_type": "code",
   "execution_count": null,
   "id": "b7904486-223b-4ffe-b59b-97faae021037",
   "metadata": {},
   "outputs": [],
   "source": [
    "#6Q)A store charges $12 per item if you buy less than 10 items. If you buy between 10\n",
    " #and 99 items, the cost is $10 per item. If you buy 100 or more items, the cost is $7\n",
    " #per item. Write a program that asks the user how many items they are buying and\n",
    " #prints the total cost."
   ]
  },
  {
   "cell_type": "code",
   "execution_count": 45,
   "id": "bd1bab78-d519-4c60-8eb4-a13497bce232",
   "metadata": {},
   "outputs": [
    {
     "name": "stdin",
     "output_type": "stream",
     "text": [
      "Enter the items you have taken : 444\n"
     ]
    },
    {
     "name": "stdout",
     "output_type": "stream",
     "text": [
      "The total cost for more then 100 items:3108\n"
     ]
    }
   ],
   "source": [
    "items=eval(input(\"Enter the items you have taken :\"))\n",
    "if items<=10:\n",
    "    cost1=12\n",
    "    total_cost1=items*cost1\n",
    "    print(f\"The total cost for less then 10 items:{total_cost1}\")\n",
    "\n",
    "elif 10<=items<=99:\n",
    "    cost2=10\n",
    "    total_cost2=items*cost2\n",
    "    print(f\"The total cost b/w 10 to 99 items:{total_cost2}\")\n",
    "\n",
    "elif items>100:\n",
    "    cost3=7\n",
    "    total_cost3=items*cost3\n",
    "    print(f\"The total cost for more then 100 items:{total_cost3}\")\n",
    "\n",
    "else:\n",
    "    print(\"Enter the valid input\")"
   ]
  },
  {
   "cell_type": "code",
   "execution_count": null,
   "id": "13d0c711-1399-47f8-83e3-f3e1410fd3f1",
   "metadata": {},
   "outputs": [],
   "source": [
    "#7Q)Write a program that asks the user for two numbers and prints Close if the\n",
    " #numbers are within .001of each other and Not close otherwise."
   ]
  },
  {
   "cell_type": "code",
   "execution_count": 48,
   "id": "d7f60fca-5831-40a8-be27-c4f2207570c1",
   "metadata": {},
   "outputs": [
    {
     "name": "stdin",
     "output_type": "stream",
     "text": [
      "Enter the first number:  9\n",
      "Enter the second number:  6\n"
     ]
    },
    {
     "name": "stdout",
     "output_type": "stream",
     "text": [
      "Not close\n"
     ]
    }
   ],
   "source": [
    "number1 = eval(input(\"Enter the first number: \"))\n",
    "number2 = eval(input(\"Enter the second number: \"))\n",
    "\n",
    "if (number1 - number2) <= 0.001:\n",
    "    print(\"Close\")\n",
    "else:\n",
    "    print(\"Not close\")\n"
   ]
  },
  {
   "cell_type": "code",
   "execution_count": null,
   "id": "af4b5664-12e4-40ac-8410-c5d0aa8ac411",
   "metadata": {},
   "outputs": [],
   "source": [
    "#8Q)A year is a leap year if it is divisible by 4, except that years divisible by 100 are not leap years unless\n",
    " #they are also divisible by 400. Write a program that asks the user for a year and prints out whether\n",
    " #it is a leap year or not."
   ]
  },
  {
   "cell_type": "code",
   "execution_count": 67,
   "id": "64f80137-4a0e-46e7-834b-210c6f91351a",
   "metadata": {},
   "outputs": [
    {
     "name": "stdin",
     "output_type": "stream",
     "text": [
      "enter the year you want : 2020\n"
     ]
    },
    {
     "name": "stdout",
     "output_type": "stream",
     "text": [
      "==Its a leap year==\n"
     ]
    }
   ],
   "source": [
    "year=eval(input(\"enter the year you want :\"))\n",
    "if (year%4==0 and year%100!=0) or (year%400==0):\n",
    "    print(\"==Its a leap year==\")\n",
    "\n",
    "else:\n",
    "    print(\"==Its not a leap year==\")"
   ]
  },
  {
   "cell_type": "code",
   "execution_count": null,
   "id": "35cfa9aa-dad3-4cd8-8365-57be877cbc60",
   "metadata": {},
   "outputs": [],
   "source": [
    "#list of leap years\n",
    "2020\n",
    "2016\n",
    "2012\n",
    "2008\n",
    "2004"
   ]
  },
  {
   "cell_type": "code",
   "execution_count": null,
   "id": "cff966bd-2ac8-44cb-9e33-d1bb10980545",
   "metadata": {},
   "outputs": [],
   "source": [
    "#9Q)Write a program that asks the user to enter a number and prints out all the divisors of that\n",
    " #number. [Hint: the % operator is used to tell if a number is divisible by something."
   ]
  },
  {
   "cell_type": "code",
   "execution_count": 4,
   "id": "5898a1fa-daea-4666-b937-2f561f714001",
   "metadata": {},
   "outputs": [
    {
     "name": "stdin",
     "output_type": "stream",
     "text": [
      "Enter the number : 46\n"
     ]
    },
    {
     "name": "stdout",
     "output_type": "stream",
     "text": [
      "1 is the divisor of 46\n",
      "2 is the divisor of 46\n",
      "23 is the divisor of 46\n",
      "46 is the divisor of 46\n"
     ]
    }
   ],
   "source": [
    "num1=eval(input(\"Enter the number :\"))\n",
    "for i in range(1,num1+1):\n",
    "    if num1%i==0:\n",
    "        print(f\"{i} is the divisor of {num1}\")\n",
    "    "
   ]
  },
  {
   "cell_type": "code",
   "execution_count": null,
   "id": "2ec8e14e-27f4-4e62-99d5-dc0e40ba1f2b",
   "metadata": {},
   "outputs": [],
   "source": [
    "#10Q)Write a program that asks the user for an hour between 1 and 12, asks them to\n",
    "  #enter am or pm, and asks them how many hours into the future they want to go.\n",
    "  #Print out what the hour will be that many hours into the future, printing am or pm as\n",
    "  #appropriate. An example is shown below.\n",
    "\n",
    " Enter hour: 8\n",
    " am (1) or pm (2)? 1\n",
    " How many hours ahead? 5\n",
    " New hour: 1 pm"
   ]
  },
  {
   "cell_type": "code",
   "execution_count": 14,
   "id": "764fa38c-e3db-4d59-a17c-547dbc32cba5",
   "metadata": {},
   "outputs": [
    {
     "name": "stdin",
     "output_type": "stream",
     "text": [
      "Enter the time b/w 1 and 12: 5\n"
     ]
    },
    {
     "name": "stdout",
     "output_type": "stream",
     "text": [
      "time is am\n"
     ]
    },
    {
     "name": "stdin",
     "output_type": "stream",
     "text": [
      "Enter the hours ahead you want to go: 8\n"
     ]
    },
    {
     "name": "stdout",
     "output_type": "stream",
     "text": [
      "The new hour is :13\n"
     ]
    }
   ],
   "source": [
    "time=eval(input(\"Enter the time b/w 1 and 12:\"))\n",
    "if time<=12:\n",
    "    print(\"time is am\")\n",
    "\n",
    "elif time>12:\n",
    "    print(\"time is pm\")\n",
    "\n",
    "elif am==1 and pm==2:\n",
    "    eval(input(\"enter (am/pm) :\"))\n",
    "ahead=eval(input(\"Enter the hours ahead you want to go:\"))\n",
    "total_time=time+ahead\n",
    "print(f\"The new hour is :{total_time}\")"
   ]
  },
  {
   "cell_type": "code",
   "execution_count": 15,
   "id": "77cc25ef-e3d8-4e67-bfa8-949b25b8d986",
   "metadata": {},
   "outputs": [
    {
     "name": "stdin",
     "output_type": "stream",
     "text": [
      "enter your option for (am type 1) for (pm type 2) : 2\n",
      "enter present time 4\n",
      "Enter future time 5\n"
     ]
    },
    {
     "name": "stdout",
     "output_type": "stream",
     "text": [
      "Now time is 9 pm\n"
     ]
    }
   ],
   "source": [
    "a=eval(input(\"enter your option for (am type 1) for (pm type 2) :\"))\n",
    "if a==1:\n",
    "    b=int(input(\"enter present time\"))\n",
    "    c=int(input(\"Enter future time\"))\n",
    "    d=b+c\n",
    "    if d<12:\n",
    "        print(\"Now time is\",d,'am')\n",
    "    elif d==12:\n",
    "        print(\"Now time is\",d,'am')\n",
    "    elif d>12:\n",
    "        print(\"Now time is\",d-12,'pm')\n",
    "elif a==2:\n",
    "    b=int(input(\"enter present time\"))\n",
    "    c=int(input(\"Enter future time\"))\n",
    "    d=b+c\n",
    "    if d<12:\n",
    "        print(\"Now time is\",d,'pm')\n",
    "    elif d==12:\n",
    "        print(\"Now time is\",d,'pm')\n",
    "    elif d>12:\n",
    "        print(\"Now time is\",d-12,'am')\n",
    "else:\n",
    "    print(\"Your option is out of range or incorrect option\")"
   ]
  },
  {
   "cell_type": "code",
   "execution_count": null,
   "id": "7c5f9a1f-d394-4eaa-bf28-5c71577583a0",
   "metadata": {},
   "outputs": [],
   "source": [
    "#10Q)Write a program that asks the user for an hour between 1 and 12, asks them to\n",
    "  #enter am or pm, and asks them how many hours into the future they want to go.\n",
    "  #Print out what the hour will be that many hours into the future, printing am or pm as\n",
    "  #appropriate. An example is shown below."
   ]
  },
  {
   "cell_type": "code",
   "execution_count": 17,
   "id": "31dc2e91-3291-4779-b8b0-fbb991c1c50a",
   "metadata": {},
   "outputs": [
    {
     "name": "stdin",
     "output_type": "stream",
     "text": [
      "Enter the option(type 1 am) and (type 2 pm) 1\n",
      "Enter the present time 8\n",
      "Enter the future time 9\n"
     ]
    },
    {
     "name": "stdout",
     "output_type": "stream",
     "text": [
      "now the time 5 pm\n"
     ]
    }
   ],
   "source": [
    "time=eval(input(\"Enter the option(type 1 am) and (type 2 pm)\"))\n",
    "if time==1:\n",
    "    a=eval(input(\"Enter the present time\"))\n",
    "    b=eval(input(\"Enter the future time\"))\n",
    "    d=a+b\n",
    "    if d<12:\n",
    "        print(\"now the time\",d,'am')\n",
    "    elif d==12:\n",
    "         print(\"now the time\",d,'am')\n",
    "    elif d>12:\n",
    "        print(\"now the time\",d-12,'pm')\n",
    "\n",
    "if time==2:\n",
    "    a=eval(input(\"Enter the present time\"))\n",
    "    b=eval(input(\"Enter the future time\"))\n",
    "    d=a+b\n",
    "    if d<12:\n",
    "        print(\"now the time\",d,'am')\n",
    "    elif d==12:\n",
    "         print(\"now the time\",d,'am')\n",
    "    elif d>12:\n",
    "        print(\"now the time\",d-12,'am')\n",
    "        "
   ]
  },
  {
   "cell_type": "code",
   "execution_count": null,
   "id": "38f3c318-6b62-4fa1-b8d0-d7a62683c0a9",
   "metadata": {},
   "outputs": [],
   "source": []
  }
 ],
 "metadata": {
  "kernelspec": {
   "display_name": "Python 3 (ipykernel)",
   "language": "python",
   "name": "python3"
  },
  "language_info": {
   "codemirror_mode": {
    "name": "ipython",
    "version": 3
   },
   "file_extension": ".py",
   "mimetype": "text/x-python",
   "name": "python",
   "nbconvert_exporter": "python",
   "pygments_lexer": "ipython3",
   "version": "3.11.7"
  }
 },
 "nbformat": 4,
 "nbformat_minor": 5
}
