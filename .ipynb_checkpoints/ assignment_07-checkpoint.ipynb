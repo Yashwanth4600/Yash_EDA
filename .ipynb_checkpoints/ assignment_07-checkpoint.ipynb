{
 "cells": [
  {
   "cell_type": "code",
   "execution_count": 1,
   "id": "200b9510-b2a1-4ec1-8763-40cbeb2cf9d7",
   "metadata": {},
   "outputs": [
    {
     "name": "stdout",
     "output_type": "stream",
     "text": [
      "30\n"
     ]
    }
   ],
   "source": [
    "a=10\n",
    "b=20\n",
    "c=a+b\n",
    "print(c)"
   ]
  },
  {
   "cell_type": "code",
   "execution_count": 22,
   "id": "ab444784-350b-4108-a22e-6a90dc512ce9",
   "metadata": {},
   "outputs": [
    {
     "name": "stdout",
     "output_type": "stream",
     "text": [
      "The 78 is even number\n"
     ]
    }
   ],
   "source": [
    "#1Q) For example\n",
    "# take a random number between  1 to 100\n",
    "# print it is a even number and odd number\n",
    "# you need to generate 3 random number\n",
    "\n",
    "import random\n",
    "num1=random.randint(1,100)\n",
    "if num1%2==0:\n",
    "    print(f\"The {num1} is even number\")\n",
    "else:\n",
    "     print(f\"The {num1} is odd number\")"
   ]
  },
  {
   "cell_type": "code",
   "execution_count": 21,
   "id": "dd9abd06-a74e-4705-bf03-9c8d9179ae87",
   "metadata": {},
   "outputs": [
    {
     "name": "stdout",
     "output_type": "stream",
     "text": [
      "18 is even number\n"
     ]
    }
   ],
   "source": [
    "#2Q) wap ask the user print the number is even or odd between 10 to 20\n",
    "import random\n",
    "num1=random.randint(10,20)\n",
    "if num1%2==0:\n",
    "    print(f\"{num1} is even number\")\n",
    "else:\n",
    "    print(f\"{num1} is odd number\")"
   ]
  },
  {
   "cell_type": "code",
   "execution_count": 20,
   "id": "d8add267-70c1-4b3c-9273-236a6233aa11",
   "metadata": {},
   "outputs": [
    {
     "name": "stdout",
     "output_type": "stream",
     "text": [
      "The square of two numbers 24 square 24 is :576\n"
     ]
    }
   ],
   "source": [
    "#3Q) wap ask the user print the square of the number between\n",
    "# 20 to 25\n",
    "for i in range(1):\n",
    "    num=random.randint(20,25)\n",
    "    square=num*num\n",
    "    print(f\"The square of two numbers {num} square {num} is :{square}\")"
   ]
  },
  {
   "cell_type": "code",
   "execution_count": 19,
   "id": "6b2e81ea-047c-4e2d-abd8-21b4d29c2b70",
   "metadata": {},
   "outputs": [
    {
     "name": "stdin",
     "output_type": "stream",
     "text": [
      "Enter the value: 7\n"
     ]
    },
    {
     "name": "stdout",
     "output_type": "stream",
     "text": [
      "The square of 7 value is :49\n"
     ]
    },
    {
     "name": "stdin",
     "output_type": "stream",
     "text": [
      "Enter the value: 8\n"
     ]
    },
    {
     "name": "stdout",
     "output_type": "stream",
     "text": [
      "The square of 8 value is :64\n"
     ]
    },
    {
     "name": "stdin",
     "output_type": "stream",
     "text": [
      "Enter the value: 4\n"
     ]
    },
    {
     "name": "stdout",
     "output_type": "stream",
     "text": [
      "The square of 4 value is :16\n"
     ]
    }
   ],
   "source": [
    "#4Q) WAP ask the user enter number three times find the square of the number\n",
    "# How many times loop should run\n",
    "for i in range(3):\n",
    "    num1=eval(input(\"Enter the value:\"))\n",
    "    print(f\"The square of {num1} value is :{num1*num1}\")"
   ]
  },
  {
   "cell_type": "code",
   "execution_count": 18,
   "id": "02e654c8-53af-4698-957f-0eed2bcc674c",
   "metadata": {},
   "outputs": [
    {
     "name": "stdin",
     "output_type": "stream",
     "text": [
      "Enter the table you want: 14\n"
     ]
    },
    {
     "name": "stdout",
     "output_type": "stream",
     "text": [
      "14x1=14\n",
      "14x2=28\n",
      "14x3=42\n",
      "14x4=56\n",
      "14x5=70\n",
      "14x6=84\n",
      "14x7=98\n",
      "14x8=112\n",
      "14x9=126\n",
      "14x10=140\n"
     ]
    }
   ],
   "source": [
    "#5Q) Print the 14th table\n",
    "# ans:   14 x 1 = 14\n",
    "#        14 x 2 = 28\n",
    "#        14 x 3 = 42\n",
    "#\n",
    "#\n",
    "#        14 x10 = 140\n",
    "# How many times 10\n",
    "num1=eval(input(\"Enter the table you want:\"))\n",
    "for i in range(1,11):\n",
    "    table=num1*i\n",
    "    print(f\"{num1}x{i}={table}\")\n"
   ]
  },
  {
   "cell_type": "code",
   "execution_count": 17,
   "id": "64a0d0c2-2cad-4dd9-9cd5-7b26acc5244e",
   "metadata": {},
   "outputs": [
    {
     "name": "stdin",
     "output_type": "stream",
     "text": [
      "Enter the number: 6\n"
     ]
    },
    {
     "name": "stdout",
     "output_type": "stream",
     "text": [
      "1 is the factor of :6\n",
      "2 is the factor of :6\n",
      "3 is the factor of :6\n",
      "6 is the factor of :6\n"
     ]
    }
   ],
   "source": [
    "#6 Q) Find the factors of 75\n",
    "# step-1: Iterate the loop = which numbers factor you want\n",
    "# step-2: Apply the if condition\n",
    "#         cond= divide the number with each i\n",
    "num1=eval(input(\"Enter the number:\"))\n",
    "for i in range(1,num1+1):\n",
    "    if num1%i==0:\n",
    "        print(f\"{i} is the factor of :{num1}\")"
   ]
  },
  {
   "cell_type": "code",
   "execution_count": 16,
   "id": "ef807287-03a7-430f-817d-e2f8dc862da8",
   "metadata": {},
   "outputs": [
    {
     "name": "stdout",
     "output_type": "stream",
     "text": [
      "The first 10 natural numbers are:\n",
      "1 2 3 4 5 6 7 8 9 10 \n",
      "The sum of 10 natural numbers are :55\n"
     ]
    }
   ],
   "source": [
    "#7Q) Write the sum of first 10 Natural numbers\n",
    "# 1 to 10\n",
    "# 1+2+3+4+5+6+7+8+9+10=55\n",
    "sum_of_first_10=0\n",
    "print(\"The first 10 natural numbers are:\")\n",
    "for num in range(1, 11):\n",
    "    print(num, end=' ')\n",
    "    sum_of_first_10=sum_of_first_10+num\n",
    "print(f\"\\nThe sum of 10 natural numbers are :{sum_of_first_10}\")"
   ]
  },
  {
   "cell_type": "code",
   "execution_count": 15,
   "id": "9c2c65fa-d452-4822-ad11-2115d7fee130",
   "metadata": {},
   "outputs": [
    {
     "name": "stdin",
     "output_type": "stream",
     "text": [
      "Enter the value 5\n"
     ]
    },
    {
     "name": "stdout",
     "output_type": "stream",
     "text": [
      "3.0\n"
     ]
    }
   ],
   "source": [
    "# 8Q) Average first 1 to 10 numbers\n",
    "# avg= summation of all the numbers/total number\n",
    "#Wap to find the average of ' N ' numbers in Python.\n",
    "summ=0\n",
    "N=eval(input(\"Enter the value\"))\n",
    "for i in range(1,N+1):\n",
    "    summ=summ+i\n",
    "print(summ/N)"
   ]
  },
  {
   "cell_type": "code",
   "execution_count": 14,
   "id": "fc6c3d53-19c5-4855-ba7b-7e67e1be638e",
   "metadata": {},
   "outputs": [
    {
     "name": "stdin",
     "output_type": "stream",
     "text": [
      "Enter the value 5\n"
     ]
    },
    {
     "name": "stdout",
     "output_type": "stream",
     "text": [
      "The divisor of 5 is 1\n",
      "The divisor of 5 is 5\n"
     ]
    }
   ],
   "source": [
    "#9Q) Find the number of divisors of 75\n",
    "# ans: 1,3,5,15,25,75\n",
    "# Number =6\n",
    "N=eval(input(\"Enter the value\"))\n",
    "for i in range(1,N+1):\n",
    "    if N%i==0:\n",
    "        print(f\"The divisor of {N} is {i}\")"
   ]
  },
  {
   "cell_type": "code",
   "execution_count": 13,
   "id": "a9395ad6-93cd-428e-8744-6595851281e2",
   "metadata": {},
   "outputs": [
    {
     "name": "stdin",
     "output_type": "stream",
     "text": [
      "Enter the num2 value 5\n"
     ]
    },
    {
     "name": "stdout",
     "output_type": "stream",
     "text": [
      "Your fail\n",
      "You have four chances3\n"
     ]
    },
    {
     "name": "stdin",
     "output_type": "stream",
     "text": [
      "Enter the num2 value 7\n"
     ]
    },
    {
     "name": "stdout",
     "output_type": "stream",
     "text": [
      "Your fail\n",
      "You have four chances2\n"
     ]
    },
    {
     "name": "stdin",
     "output_type": "stream",
     "text": [
      "Enter the num2 value 6\n"
     ]
    },
    {
     "name": "stdout",
     "output_type": "stream",
     "text": [
      "Your fail\n",
      "You have four chances1\n"
     ]
    },
    {
     "name": "stdin",
     "output_type": "stream",
     "text": [
      "Enter the num2 value 4\n"
     ]
    },
    {
     "name": "stdout",
     "output_type": "stream",
     "text": [
      "Your fail\n",
      "You have four chances0\n",
      "Try after 24 hours\n"
     ]
    }
   ],
   "source": [
    "# 10Q)\n",
    "# Get a random number between  1 to 10 :  num1\n",
    "# Ask the user enter a number : num2\n",
    "# if num1 == num2  then print won\n",
    "# else print fail\n",
    "\n",
    "# Give 3 chances\n",
    "\n",
    "# Case-2: whenever you won the code should stop\n",
    "\n",
    "# Case-3:\n",
    "# Suppose i want to give 4 chances\n",
    "# Every time you fail I want to display\n",
    "#      Number of chances left\n",
    "\n",
    "# If all the chances you are used\n",
    "#    Try again after 24 hours\n",
    "\n",
    "# If you are win\n",
    "import random\n",
    "for i in range(4):\n",
    "    num1=random.randint(1,10)\n",
    "    num2=eval(input(\"Enter the num2 value\"))\n",
    "    if num1==num2:\n",
    "        print(\"Your won\")\n",
    "    else:\n",
    "        print(\"Your fail\")\n",
    "        print(f\"You have four chances{3-i}\")\n",
    "        if i==3:\n",
    "            print(\"Try after 24 hours\")\n"
   ]
  },
  {
   "cell_type": "code",
   "execution_count": null,
   "id": "265ea70f-b4ac-4e27-8fcd-dac3251021ce",
   "metadata": {},
   "outputs": [],
   "source": [
    "#11q)# wap ask the user get 5 random numbers\n",
    "# Get it is an even number or odd number\n",
    "# also count how many even numbers are there\n",
    "# and  count how many odd numbers are there\n",
    "\n",
    "# Idea\n",
    "# take two counters one even and odd count\n",
    "# For loop 5 times\n",
    "# each time take the random number\n",
    "# If condition\n",
    "#    True counter update\n",
    "# else\n",
    "#   Update the counter\n",
    "even_count=0\n",
    "odd_count=0\n",
    "import random\n",
    "for i in range(5):\n",
    "    num1=random.randint(1,6)\n",
    "    if num1%2==0:\n",
    "        even_count=even_count+1\n",
    "        print(f\"{num1} even number\")\n",
    "        print(f\"The count of the even number{even_count}\")\n",
    "    \n",
    "    else:\n",
    "        odd_count=odd_count+1\n",
    "        print(f\"{num1} odd number\")\n",
    "        print(f\"count of odd numbers {odd_count}\")"
   ]
  },
  {
   "cell_type": "code",
   "execution_count": null,
   "id": "d95532a2-0c10-4c5f-852b-da66b1fa7122",
   "metadata": {},
   "outputs": [],
   "source": [
    "#12Q) # wap ask the user get 5 random numbers\n",
    "# Get it is an even number or odd number\n",
    "# also count how many even numbers are there\n",
    "# and  count how many odd numbers are there\n",
    "# I want summ even numbers\n",
    "# I want summ odd numbers\n",
    "def is_even(num):\n",
    "    return num % 2 == 0\n",
    "for i in range(5):\n",
    "    number = eval(input(f\"Enter number {i+1}: \"))\n",
    "\n",
    "even_count = 0\n",
    "odd_count = 0\n",
    "even_sum = 0\n",
    "odd_sum = 0\n",
    "\n",
    "for num in numbers:\n",
    "    if is_even(num):\n",
    "        even_count += 1\n",
    "        even_sum += num\n",
    "    else:\n",
    "        odd_count += 1\n",
    "        odd_sum += num\n",
    "\n",
    "print(f\"Even numbers count: {even_count}\")\n",
    "print(f\"Odd numbers count: {odd_count}\")\n",
    "print(f\"Sum of even numbers: {even_sum}\")\n",
    "print(f\"Sum of odd numbers: {odd_sum}\")\n"
   ]
  }
 ],
 "metadata": {
  "kernelspec": {
   "display_name": "Python 3 (ipykernel)",
   "language": "python",
   "name": "python3"
  },
  "language_info": {
   "codemirror_mode": {
    "name": "ipython",
    "version": 3
   },
   "file_extension": ".py",
   "mimetype": "text/x-python",
   "name": "python",
   "nbconvert_exporter": "python",
   "pygments_lexer": "ipython3",
   "version": "3.11.7"
  }
 },
 "nbformat": 4,
 "nbformat_minor": 5
}
